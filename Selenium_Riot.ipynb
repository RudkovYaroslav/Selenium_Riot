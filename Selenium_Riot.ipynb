{
  "cells": [
    {
      "cell_type": "markdown",
      "metadata": {
        "id": "view-in-github",
        "colab_type": "text"
      },
      "source": [
        "<a href=\"https://colab.research.google.com/github/RudkovYaroslav/Selenium_Riot/blob/main/Selenium_Riot.ipynb\" target=\"_parent\"><img src=\"https://colab.research.google.com/assets/colab-badge.svg\" alt=\"Open In Colab\"/></a>"
      ]
    },
    {
      "cell_type": "markdown",
      "id": "a9299077-7f8c-4a4a-92b2-31c71ed4fafd",
      "metadata": {
        "id": "a9299077-7f8c-4a4a-92b2-31c71ed4fafd"
      },
      "source": [
        "# Проект - \"Сбор данных для челленджа League of Legends\""
      ]
    },
    {
      "cell_type": "markdown",
      "id": "c36db71a-a13a-41f0-a75e-936ecbfd5caf",
      "metadata": {
        "id": "c36db71a-a13a-41f0-a75e-936ecbfd5caf"
      },
      "source": [
        "Цель проекта: Существует достижение в игре LOL - иметь более 10000 очков мастерства на каждом из 150 чемпионов. Для того, чтобы отслеживать прогресс, необходимо создать excel файл, который будет показывать героев, их текущие очки мастерства, а также позиции на которых они играются. Для сбора данных будем использовать популярный сайт статистики по LOL - [op.gg](https://www.op.gg/)"
      ]
    },
    {
      "cell_type": "markdown",
      "id": "9693ee47-4695-442e-86f4-e4cfadcd7ede",
      "metadata": {
        "id": "9693ee47-4695-442e-86f4-e4cfadcd7ede"
      },
      "source": [
        "Ход исследования:\n",
        "\n",
        " - Создадим первоначальные cookie для того, чтобы пропускать дальнейшую регистрацию каждый раз, когда хотим собрать информацию о мастерстве\n",
        " - Возьмем данные он текущем мастерстве всех чемпионов со страницы пользователя\n",
        " - Возьмем данные о позициях чемпионов, используя главную страницу\n",
        " - Объединим две таблица по именам чемпионов\n",
        " - Разъединим таблицу по позициям для того, чтобы отобразить их на отдельных листах книги excel\n",
        " - Запишем все в файл"
      ]
    },
    {
      "cell_type": "markdown",
      "id": "564f9b8d-fac3-42ae-acd8-c076d94878f6",
      "metadata": {
        "id": "564f9b8d-fac3-42ae-acd8-c076d94878f6"
      },
      "source": [
        "## Импорт библиотек и предисловие"
      ]
    },
    {
      "cell_type": "code",
      "execution_count": null,
      "id": "2a4f9944-50bd-49ae-8210-e02ff6107bbc",
      "metadata": {
        "id": "2a4f9944-50bd-49ae-8210-e02ff6107bbc"
      },
      "outputs": [],
      "source": [
        "from selenium import webdriver #Основная библиотека для получения данных\n",
        "from selenium.webdriver.common.by import By #Часть Selenium\n",
        "import time #Библиотека для постановки таймера\n",
        "import pandas as pd #Основная библиотека для создания DataFrame\n",
        "import regex as re #Библиотека для более углубленного поиска\n",
        "from selenium.webdriver.chrome.service import Service #Часть Selenium\n",
        "from selenium.webdriver.chrome.options import Options #Часть Selenium\n",
        "import pickle #Используется для cookie\n",
        "from bs4 import BeautifulSoup #Библиотека для углубленного поиска в html коде\n",
        "import requests #Библиотека для написания get запросов(получения html кода из ссылки)"
      ]
    },
    {
      "cell_type": "markdown",
      "id": "0f0b9394-1ff9-4249-97a8-d98b524ff9e2",
      "metadata": {
        "id": "0f0b9394-1ff9-4249-97a8-d98b524ff9e2"
      },
      "source": [
        "Основные проблемы, с которыми пришлось столкнуться:\n",
        "\n",
        " - Ни BeatifulSoup, ни requests.get не могут получить правильные данные со страниц сайта [op.gg](https://www.op.gg/) из-за того, что сайт, после того, как на него заходит пользователь, сам отправляет get запрос на API игры(который доступен только для специальных организаций). Соответственно, используется библиотека Selenium.\n",
        " - Просмотр информации о пользователе требует авторизации. Чтобы каждый раз не повторять этот процесс, единоразово создали cookie и записали их в отдельный файл.\n",
        " - Очень важным шагом является определение позиции, на которой играет каждый чемпион. Получение этой информации оказалось трудным. Она расположена только на странице с конкретным чемпионом. Поэтому пришлось взять все ссылки на страницы чемпионов и на каждой взять позицию"
      ]
    },
    {
      "cell_type": "markdown",
      "id": "df259aed-6ee9-4ea7-8cb4-b1bd2d9ec996",
      "metadata": {
        "id": "df259aed-6ee9-4ea7-8cb4-b1bd2d9ec996"
      },
      "source": [
        "## Создание функций"
      ]
    },
    {
      "cell_type": "markdown",
      "id": "1cd7b34d-7394-40e2-94a5-e5b8f7f00e03",
      "metadata": {
        "id": "1cd7b34d-7394-40e2-94a5-e5b8f7f00e03"
      },
      "source": [
        "Создадим функции, которые будем использовать для запросов"
      ]
    },
    {
      "cell_type": "code",
      "execution_count": null,
      "id": "13fff99b-57bc-448f-a20f-4a8fa7cd39d1",
      "metadata": {
        "id": "13fff99b-57bc-448f-a20f-4a8fa7cd39d1"
      },
      "outputs": [],
      "source": [
        "def cook():\n",
        "    # Путь к драйверу браузера\n",
        "    cService = webdriver.ChromeService('C:/Users/User/Downloads/yandexdriver-24.7.0.2299-win64/yandexdriver.exe')\n",
        "\n",
        "    # Ссылка, с которой будем брать данные\n",
        "    url = \"https://www.op.gg/summoners/euw/SatoruGоjo-2031/mastery\"\n",
        "\n",
        "    # Запуск браузера\n",
        "    driver = webdriver.Chrome(service = cService)\n",
        "    driver.get(url)\n",
        "\n",
        "    # Даем пользователю время для ручной авторизации\n",
        "    input(\"Пожалуйста, авторизуйтесь на сайте вручную, затем нажмите Enter для продолжения...\")\n",
        "\n",
        "    # Сохраняем cookies в файл\n",
        "    cookies = driver.get_cookies()\n",
        "    with open(\"cookies.pkl\", \"wb\") as file:\n",
        "        pickle.dump(cookies, file)\n",
        "\n",
        "    print(\"Cookies успешно сохранены в файл!\")\n",
        "\n",
        "    # Закрываем браузер\n",
        "    driver.quit()\n",
        "    return 0"
      ]
    },
    {
      "cell_type": "markdown",
      "id": "6a5e0765-75c8-4339-8475-4eba7e35bc2e",
      "metadata": {
        "id": "6a5e0765-75c8-4339-8475-4eba7e35bc2e"
      },
      "source": [
        "Функция открывает сайт и ждет, пока мы залогинимся, затем сохраняет куки"
      ]
    },
    {
      "cell_type": "code",
      "execution_count": null,
      "id": "d9144d58-b034-4497-b776-0db2de310e92",
      "metadata": {
        "scrolled": true,
        "id": "d9144d58-b034-4497-b776-0db2de310e92"
      },
      "outputs": [],
      "source": [
        "def selen():\n",
        "    mastery, champ = [], []\n",
        "    # Путь к драйверу браузера\n",
        "    cService = webdriver.ChromeService('C:/Users/User/Downloads/yandexdriver-24.7.0.2299-win64/yandexdriver.exe')\n",
        "\n",
        "    # Ссылка, с которой будем брать данные\n",
        "    url = \"https://www.op.gg/summoners/euw/SatoruGоjo-2031/mastery\"\n",
        "\n",
        "    # Запуск браузера\n",
        "    driver = webdriver.Chrome(service = cService)\n",
        "    driver.get(url)\n",
        "\n",
        "    # Путь к файлу с cookie\n",
        "    cookies_file = \"cookies.pkl\"\n",
        "\n",
        "    # Загружаем файл cookie\n",
        "    with open(\"cookies.pkl\", \"rb\") as file:\n",
        "        cookies = pickle.load(file)\n",
        "        for cookie in cookies:\n",
        "            driver.add_cookie(cookie)\n",
        "\n",
        "    # Загружаем нужную страницу после добавления cookie\n",
        "    driver.get('https://www.op.gg/summoners/euw/SatoruGоjo-2031/mastery')\n",
        "\n",
        "    # Ожидание для полной загрузки страницы.\n",
        "    time.sleep(5)\n",
        "\n",
        "    #Основной запрос\n",
        "    mastery_points_list = driver.find_elements(By.CLASS_NAME, \"champion-point\") #Берем очки мастерства\n",
        "    for elem in mastery_points_list:\n",
        "        mastery.append(elem.text)\n",
        "    champ_name_list = driver.find_elements(By.CLASS_NAME, \"champion-name\") #Берем имена чемпионов\n",
        "    for elemen in champ_name_list:\n",
        "        champ.append(elemen.text)\n",
        "    driver.quit()\n",
        "    return(mastery, champ)"
      ]
    },
    {
      "cell_type": "markdown",
      "id": "2a09c1b7-c432-4540-b27f-662fa6f4153f",
      "metadata": {
        "id": "2a09c1b7-c432-4540-b27f-662fa6f4153f"
      },
      "source": [
        "Основной запрос. Используя Selenium, открываем страницу пользователя и считываем всю информацию о мастерстве и имени чемпиона"
      ]
    },
    {
      "cell_type": "code",
      "execution_count": null,
      "id": "b61f1a0b-2a97-4aa4-ad8c-e785fa281ef0",
      "metadata": {
        "id": "b61f1a0b-2a97-4aa4-ad8c-e785fa281ef0"
      },
      "outputs": [],
      "source": [
        "def champ():\n",
        "    # Путь к драйверу браузера\n",
        "    cService = webdriver.ChromeService('C:/Users/User/Downloads/yandexdriver-24.7.0.2299-win64/yandexdriver.exe')\n",
        "\n",
        "    # Ссылка, с которой будем брать данные\n",
        "    url = \"https://www.op.gg/champions\"\n",
        "\n",
        "    # Запуск браузера\n",
        "    driver = webdriver.Chrome(service = cService)\n",
        "    driver.get(url)\n",
        "\n",
        "    # Ставим ожидание\n",
        "    driver.implicitly_wait(5)\n",
        "\n",
        "    # Берем нужные нам классы\n",
        "    elements = driver.find_elements(By.CSS_SELECTOR, '.css-mtyeel.e191lqlp2')\n",
        "\n",
        "# Сбор всех связанных ссылок\n",
        "    name, position = [], []\n",
        "    for element in elements:\n",
        "        name.append(element.text) # Добавляем имя персонажа\n",
        "        parent_link = element.find_element(By.XPATH, './ancestor::a') # Ссылка на чемпиона находится выше, чем класс, который мы получили\n",
        "        link = parent_link.get_attribute('href')\n",
        "        response = requests.get(link)\n",
        "        soup = BeautifulSoup(response.text, 'html.parser') # Получили html код страницы с чемпионом\n",
        "        gp = soup.find_all(\"div\", {'data-key' : 'FILTER-POSITION'}) # Ищем все позиции\n",
        "        data_value = []\n",
        "        for item in gp:\n",
        "            data_value.append(item['data-value'])\n",
        "        position.append(data_value)\n",
        "    driver.quit()\n",
        "    return(name, position)"
      ]
    },
    {
      "cell_type": "markdown",
      "id": "42fd72c4-bea2-4b35-926d-524d7bd99ef4",
      "metadata": {
        "id": "42fd72c4-bea2-4b35-926d-524d7bd99ef4"
      },
      "source": [
        "Второй запрос. Открываем главную страницу, для каждого чемпиона берем ссылку на страницу с ним, оттуда берем все позиции, на коорых он играет"
      ]
    },
    {
      "cell_type": "markdown",
      "id": "9e144660-5b1a-48ac-830a-402778f25a66",
      "metadata": {
        "id": "9e144660-5b1a-48ac-830a-402778f25a66"
      },
      "source": [
        "## Использование запросов"
      ]
    },
    {
      "cell_type": "code",
      "execution_count": null,
      "id": "5e31c9c1-e1b2-4f91-b762-099ff6c6646c",
      "metadata": {
        "id": "5e31c9c1-e1b2-4f91-b762-099ff6c6646c",
        "outputId": "532ae207-c015-464f-833f-cfad865e4250"
      },
      "outputs": [
        {
          "name": "stdin",
          "output_type": "stream",
          "text": [
            "Пожалуйста, авторизуйтесь на сайте вручную, затем нажмите Enter для продолжения... \n"
          ]
        },
        {
          "name": "stdout",
          "output_type": "stream",
          "text": [
            "Cookies успешно сохранены в файл!\n"
          ]
        },
        {
          "data": {
            "text/plain": [
              "0"
            ]
          },
          "execution_count": 11,
          "metadata": {},
          "output_type": "execute_result"
        }
      ],
      "source": [
        "#cook()"
      ]
    },
    {
      "cell_type": "markdown",
      "id": "8a4e9d71-c6a4-432d-a7fa-eae5168f3392",
      "metadata": {
        "id": "8a4e9d71-c6a4-432d-a7fa-eae5168f3392"
      },
      "source": [
        "Единоразово используем функцию для создания файла cookie"
      ]
    },
    {
      "cell_type": "code",
      "execution_count": null,
      "id": "287eb1f2-e478-4985-a2d5-a3d96ac716d2",
      "metadata": {
        "id": "287eb1f2-e478-4985-a2d5-a3d96ac716d2"
      },
      "outputs": [],
      "source": [
        "mastery, champ = selen()"
      ]
    },
    {
      "cell_type": "code",
      "execution_count": null,
      "id": "34abdeed-4557-4fc6-aa1f-0dcb0b050115",
      "metadata": {
        "id": "34abdeed-4557-4fc6-aa1f-0dcb0b050115"
      },
      "outputs": [],
      "source": [
        "df = pd.DataFrame({'champ' : champ, 'mastery': mastery})"
      ]
    },
    {
      "cell_type": "code",
      "execution_count": null,
      "id": "97f3ff9f-c5a2-4147-928b-d52baba2ff5d",
      "metadata": {
        "id": "97f3ff9f-c5a2-4147-928b-d52baba2ff5d"
      },
      "outputs": [],
      "source": [
        "name, position = champ()"
      ]
    },
    {
      "cell_type": "code",
      "execution_count": null,
      "id": "5b1268d6-bf8f-4c4e-be2e-cc06ec96397d",
      "metadata": {
        "id": "5b1268d6-bf8f-4c4e-be2e-cc06ec96397d"
      },
      "outputs": [],
      "source": [
        "pos_df = pd.DataFrame({'champ' : name, 'position': position})"
      ]
    },
    {
      "cell_type": "code",
      "execution_count": null,
      "id": "89e0be41-722d-4194-8226-ee7552e5ab4c",
      "metadata": {
        "id": "89e0be41-722d-4194-8226-ee7552e5ab4c"
      },
      "outputs": [],
      "source": [
        "merged_df = pd.merge(df, pos_df, on = 'champ')"
      ]
    },
    {
      "cell_type": "markdown",
      "id": "80f5dc60-d68b-4a57-9f8f-8aedae94baff",
      "metadata": {
        "id": "80f5dc60-d68b-4a57-9f8f-8aedae94baff"
      },
      "source": [
        "Получили объединенный DataFrame, проверим, правильно ли все отображается"
      ]
    },
    {
      "cell_type": "code",
      "execution_count": null,
      "id": "fb2a9aae-14a2-4a17-ac10-44c87550f038",
      "metadata": {
        "id": "fb2a9aae-14a2-4a17-ac10-44c87550f038",
        "outputId": "235d1997-8584-4d0f-d701-72683cb444c9"
      },
      "outputs": [
        {
          "data": {
            "text/html": [
              "<div>\n",
              "<style scoped>\n",
              "    .dataframe tbody tr th:only-of-type {\n",
              "        vertical-align: middle;\n",
              "    }\n",
              "\n",
              "    .dataframe tbody tr th {\n",
              "        vertical-align: top;\n",
              "    }\n",
              "\n",
              "    .dataframe thead th {\n",
              "        text-align: right;\n",
              "    }\n",
              "</style>\n",
              "<table border=\"1\" class=\"dataframe\">\n",
              "  <thead>\n",
              "    <tr style=\"text-align: right;\">\n",
              "      <th></th>\n",
              "      <th>champ</th>\n",
              "      <th>mastery</th>\n",
              "      <th>position</th>\n",
              "    </tr>\n",
              "  </thead>\n",
              "  <tbody>\n",
              "    <tr>\n",
              "      <th>0</th>\n",
              "      <td>Джин</td>\n",
              "      <td>607856</td>\n",
              "      <td>[adc]</td>\n",
              "    </tr>\n",
              "    <tr>\n",
              "      <th>1</th>\n",
              "      <td>Акшан</td>\n",
              "      <td>160739</td>\n",
              "      <td>[mid]</td>\n",
              "    </tr>\n",
              "    <tr>\n",
              "      <th>2</th>\n",
              "      <td>Орн</td>\n",
              "      <td>93994</td>\n",
              "      <td>[top]</td>\n",
              "    </tr>\n",
              "    <tr>\n",
              "      <th>3</th>\n",
              "      <td>Экко</td>\n",
              "      <td>93036</td>\n",
              "      <td>[jungle, mid]</td>\n",
              "    </tr>\n",
              "    <tr>\n",
              "      <th>4</th>\n",
              "      <td>Наутилус</td>\n",
              "      <td>90880</td>\n",
              "      <td>[support]</td>\n",
              "    </tr>\n",
              "    <tr>\n",
              "      <th>...</th>\n",
              "      <td>...</td>\n",
              "      <td>...</td>\n",
              "      <td>...</td>\n",
              "    </tr>\n",
              "    <tr>\n",
              "      <th>163</th>\n",
              "      <td>Таам Кенч</td>\n",
              "      <td>965</td>\n",
              "      <td>[top, support]</td>\n",
              "    </tr>\n",
              "    <tr>\n",
              "      <th>164</th>\n",
              "      <td>Физз</td>\n",
              "      <td>965</td>\n",
              "      <td>[mid]</td>\n",
              "    </tr>\n",
              "    <tr>\n",
              "      <th>165</th>\n",
              "      <td>Триндамир</td>\n",
              "      <td>925</td>\n",
              "      <td>[top]</td>\n",
              "    </tr>\n",
              "    <tr>\n",
              "      <th>166</th>\n",
              "      <td>К'Санте</td>\n",
              "      <td>889</td>\n",
              "      <td>[top]</td>\n",
              "    </tr>\n",
              "    <tr>\n",
              "      <th>167</th>\n",
              "      <td>Аврора</td>\n",
              "      <td>514</td>\n",
              "      <td>[mid, top]</td>\n",
              "    </tr>\n",
              "  </tbody>\n",
              "</table>\n",
              "<p>168 rows × 3 columns</p>\n",
              "</div>"
            ],
            "text/plain": [
              "         champ  mastery        position\n",
              "0         Джин   607856           [adc]\n",
              "1        Акшан   160739           [mid]\n",
              "2          Орн    93994           [top]\n",
              "3         Экко    93036   [jungle, mid]\n",
              "4     Наутилус    90880       [support]\n",
              "..         ...      ...             ...\n",
              "163  Таам Кенч      965  [top, support]\n",
              "164       Физз      965           [mid]\n",
              "165  Триндамир      925           [top]\n",
              "166    К'Санте      889           [top]\n",
              "167     Аврора      514      [mid, top]\n",
              "\n",
              "[168 rows x 3 columns]"
            ]
          },
          "execution_count": 82,
          "metadata": {},
          "output_type": "execute_result"
        }
      ],
      "source": [
        "merged_df"
      ]
    },
    {
      "cell_type": "markdown",
      "id": "99666154-a549-4ef7-b6b0-382596dd353a",
      "metadata": {
        "id": "99666154-a549-4ef7-b6b0-382596dd353a"
      },
      "source": [
        "Все как надо"
      ]
    },
    {
      "cell_type": "markdown",
      "id": "e56184f7-1477-47fa-bdde-79b971dc8ed1",
      "metadata": {
        "id": "e56184f7-1477-47fa-bdde-79b971dc8ed1"
      },
      "source": [
        "## Обработка полученного DataFrame"
      ]
    },
    {
      "cell_type": "markdown",
      "id": "8708c53f-05a2-4a58-b7d0-4fbb4ab9940e",
      "metadata": {
        "id": "8708c53f-05a2-4a58-b7d0-4fbb4ab9940e"
      },
      "source": [
        "Для сортировки нам надо превратить цифровые значения в int"
      ]
    },
    {
      "cell_type": "code",
      "execution_count": null,
      "id": "cf6fa805-5fc0-4e86-9871-b95a1b35f508",
      "metadata": {
        "id": "cf6fa805-5fc0-4e86-9871-b95a1b35f508"
      },
      "outputs": [],
      "source": [
        "merged_df['mastery'] = merged_df['mastery'].str.replace(' ', '')"
      ]
    },
    {
      "cell_type": "code",
      "execution_count": null,
      "id": "c0716daa-7788-475a-bf97-3903f4fdda19",
      "metadata": {
        "id": "c0716daa-7788-475a-bf97-3903f4fdda19"
      },
      "outputs": [],
      "source": [
        "merged_df['mastery'] = merged_df['mastery'].astype(int)"
      ]
    },
    {
      "cell_type": "markdown",
      "id": "8a21dfb6-a807-4346-8991-8045db6a9d47",
      "metadata": {
        "id": "8a21dfb6-a807-4346-8991-8045db6a9d47"
      },
      "source": [
        "Создадим black_list - это мой личный лист из тех 18 чемпионов, которых можно пропустить(для достижения необходимо лишь 150, когда на данный момент доступно 168)"
      ]
    },
    {
      "cell_type": "code",
      "execution_count": null,
      "id": "dd884f0b-09a1-48ac-8dc6-f31fc7411019",
      "metadata": {
        "id": "dd884f0b-09a1-48ac-8dc6-f31fc7411019"
      },
      "outputs": [],
      "source": [
        "black_list = ['Афелий', 'Бард', 'Дрейвен', 'Элиза', 'Иверн', 'Каллиста', 'Клед', 'Нидали', 'Киана', 'Рената Гласк', 'Ренектон',\n",
        "             'Ренгар', 'Ривен', 'Шако', 'Синджед', 'Зои']"
      ]
    },
    {
      "cell_type": "markdown",
      "id": "2d680677-74cf-4d88-be87-3d06a4ae2a79",
      "metadata": {
        "id": "2d680677-74cf-4d88-be87-3d06a4ae2a79"
      },
      "source": [
        "## Запись в excel файл"
      ]
    },
    {
      "cell_type": "markdown",
      "id": "78f55d89-69bb-4f58-b347-c8b75b12dc71",
      "metadata": {
        "id": "78f55d89-69bb-4f58-b347-c8b75b12dc71"
      },
      "source": [
        "Создадим 5 листов, которые разграничены по позициям чемпиона, также отсечем всех чемпионов, которые уже \"пройдены\""
      ]
    },
    {
      "cell_type": "code",
      "execution_count": null,
      "id": "837fd651-a2a9-4026-9c72-4e8e19db2214",
      "metadata": {
        "id": "837fd651-a2a9-4026-9c72-4e8e19db2214"
      },
      "outputs": [],
      "source": [
        "df_top = merged_df[(df['mastery'] < 10000) & (~merged_df['champ'].isin(black_list))&(merged_df.position.apply(lambda x: 'top' in x))]"
      ]
    },
    {
      "cell_type": "code",
      "execution_count": null,
      "id": "8abcb60b-09e2-491a-b4e7-e0586851fb85",
      "metadata": {
        "id": "8abcb60b-09e2-491a-b4e7-e0586851fb85"
      },
      "outputs": [],
      "source": [
        "df_sup = merged_df[(merged_df['mastery'] < 10000) & (~merged_df['champ'].isin(black_list))&(merged_df.position.apply(lambda x: 'support' in x))]"
      ]
    },
    {
      "cell_type": "code",
      "execution_count": null,
      "id": "9481d834-f261-4ea7-8fb8-1767fc0e6f01",
      "metadata": {
        "id": "9481d834-f261-4ea7-8fb8-1767fc0e6f01"
      },
      "outputs": [],
      "source": [
        "df_adc = merged_df[(merged_df['mastery'] < 10000) & (~merged_df['champ'].isin(black_list))&(merged_df.position.apply(lambda x: 'adc' in x))]"
      ]
    },
    {
      "cell_type": "code",
      "execution_count": null,
      "id": "08735a75-323b-4ba1-b4a6-3e8899640832",
      "metadata": {
        "id": "08735a75-323b-4ba1-b4a6-3e8899640832"
      },
      "outputs": [],
      "source": [
        "df_mid = merged_df[(merged_df['mastery'] < 10000) & (~merged_df['champ'].isin(black_list))&(merged_df.position.apply(lambda x: 'mid' in x))]"
      ]
    },
    {
      "cell_type": "code",
      "execution_count": null,
      "id": "b577de9e-0337-43cb-979c-5c927666741c",
      "metadata": {
        "id": "b577de9e-0337-43cb-979c-5c927666741c"
      },
      "outputs": [],
      "source": [
        "df_jungle = merged_df[(merged_df['mastery'] < 10000) & (~merged_df['champ'].isin(black_list))&(merged_df.position.apply(lambda x: 'jungle' in x))]"
      ]
    },
    {
      "cell_type": "markdown",
      "id": "f6cfb7ca-7073-40be-a636-ec706e6ed9e7",
      "metadata": {
        "id": "f6cfb7ca-7073-40be-a636-ec706e6ed9e7"
      },
      "source": [
        "И запишем все в файл"
      ]
    },
    {
      "cell_type": "code",
      "execution_count": null,
      "id": "f93119f6-bee8-4e29-9405-aa9e642ababd",
      "metadata": {
        "id": "f93119f6-bee8-4e29-9405-aa9e642ababd"
      },
      "outputs": [],
      "source": [
        "with pd.ExcelWriter(r'C:\\Users\\User\\Desktop\\league.xlsx') as writer:\n",
        "    df_top.to_excel(writer, sheet_name='Top')\n",
        "    df_sup.to_excel(writer, sheet_name='Sup')\n",
        "    df_jungle.to_excel(writer, sheet_name='Jungle')\n",
        "    df_mid.to_excel(writer, sheet_name='Mid')\n",
        "    df_adc.to_excel(writer, sheet_name='Adc')"
      ]
    },
    {
      "cell_type": "markdown",
      "id": "c244831d-6d7f-4bdd-95e5-403d05c5ca5f",
      "metadata": {
        "id": "c244831d-6d7f-4bdd-95e5-403d05c5ca5f"
      },
      "source": [
        "Вывод:\n",
        "\n",
        " - Создали excel файл, в котором находится вся нужная информация для более удобного получения достижения: Имя чемпиона, количество очков мастерства, а также разграничение по позициям, на которых чемпион играет"
      ]
    }
  ],
  "metadata": {
    "kernelspec": {
      "display_name": "Python 3 (ipykernel)",
      "language": "python",
      "name": "python3"
    },
    "language_info": {
      "codemirror_mode": {
        "name": "ipython",
        "version": 3
      },
      "file_extension": ".py",
      "mimetype": "text/x-python",
      "name": "python",
      "nbconvert_exporter": "python",
      "pygments_lexer": "ipython3",
      "version": "3.11.7"
    },
    "colab": {
      "provenance": [],
      "include_colab_link": true
    }
  },
  "nbformat": 4,
  "nbformat_minor": 5
}